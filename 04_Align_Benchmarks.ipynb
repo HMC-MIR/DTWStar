{
 "cells": [
  {
   "cell_type": "code",
   "execution_count": null,
   "id": "4b662348",
   "metadata": {},
   "outputs": [],
   "source": [
    "import numpy as np\n",
    "import matplotlib.pyplot as plt\n",
    "import os.path\n",
    "from pathlib import Path\n",
    "import pickle\n",
    "import multiprocessing\n",
    "import time\n",
    "import gc\n",
    "from tqdm import tqdm"
   ]
  },
  {
   "cell_type": "code",
   "execution_count": null,
   "id": "6ae12ec6",
   "metadata": {},
   "outputs": [
    {
     "name": "stdout",
     "output_type": "stream",
     "text": [
      "The Cython extension is already loaded. To reload it, use:\n",
      "  %reload_ext Cython\n"
     ]
    }
   ],
   "source": [
    "%run align_tools_cython.ipynb"
   ]
  },
  {
   "cell_type": "code",
   "execution_count": null,
   "id": "db11c5eb",
   "metadata": {},
   "outputs": [],
   "source": [
    "# %run _NWTW.ipynb"
   ]
  },
  {
   "cell_type": "code",
   "execution_count": null,
   "id": "6ba16dc5",
   "metadata": {},
   "outputs": [],
   "source": [
    "TRAIN_SET = 'toy'"
   ]
  },
  {
   "cell_type": "code",
   "execution_count": null,
   "id": "b374faf3",
   "metadata": {},
   "outputs": [],
   "source": [
    "QUERY_LIST = Path(f'cfg_files/queries.train.{TRAIN_SET}')"
   ]
  },
  {
   "cell_type": "code",
   "execution_count": null,
   "id": "ab4b7065",
   "metadata": {},
   "outputs": [],
   "source": [
    "SYSTEMS = ['dtw1', 'dtw2', 'subseqdtw']\n",
    "BENCHMARKS = ['matching', 'subseq10', 'subseq30', 'partialOverlap', 'pre_5', 'pre_10', 'pre_15', 'pre_20',\n",
    "             'post_5', 'post_10', 'post_15', 'post_20', 'pre_post_5', 'pre_post_10', 'pre_post_15', 'pre_post_20']"
   ]
  },
  {
   "cell_type": "code",
   "execution_count": null,
   "id": "567420c2",
   "metadata": {},
   "outputs": [],
   "source": [
    "features_root = Path('../ttmp/Chopin_Mazurkas_features')\n",
    "FEAT_DIRS = {}\n",
    "\n",
    "for benchmark in BENCHMARKS:\n",
    "    if 'partial' in benchmark:\n",
    "        FEAT_DIRS[benchmark] = ([features_root/'partialStart', features_root/'partialEnd'])\n",
    "    else:\n",
    "        FEAT_DIRS[benchmark] = [features_root/f'{benchmark}', features_root/'original']"
   ]
  },
  {
   "cell_type": "code",
   "execution_count": null,
   "id": "de87279a",
   "metadata": {},
   "outputs": [],
   "source": [
    "steps = {'dtw1': np.array([1,1,1,2,2,1]).reshape((-1,2)),\n",
    "        'dtw2': np.array([1,0,0,1]).reshape((-1,2)),\n",
    "        'subseqdtw': np.array([1,1,1,2,2,1]).reshape((-1,2))}\n",
    "weights = {'dtw1': np.array([2,3,3]),\n",
    "          'dtw2': np.array([1,1]),\n",
    "          'subseqdtw': np.array([1,1,2])}"
   ]
  },
  {
   "cell_type": "markdown",
   "id": "01626c9f",
   "metadata": {},
   "source": [
    "# Benchmarks"
   ]
  },
  {
   "cell_type": "code",
   "execution_count": null,
   "id": "6b2ab6ec",
   "metadata": {},
   "outputs": [],
   "source": [
    "def get_outfile(outdir, benchmark, system, queryid):\n",
    "    outpath = (outdir / benchmark / system)\n",
    "    outpath.mkdir(parents=True, exist_ok=True)\n",
    "    outfile = (outpath / queryid).with_suffix('.pkl')\n",
    "    return outfile"
   ]
  },
  {
   "cell_type": "code",
   "execution_count": null,
   "id": "400d74ab",
   "metadata": {},
   "outputs": [],
   "source": [
    "def dtw(dtw_version, F1, F2, outfile):\n",
    "    subseq = 'subseq' in dtw_version\n",
    "    if subseq and (F2.shape[1] < F1.shape[1]):\n",
    "        wp = alignDTW(F2, F1, steps=steps[dtw_version], weights=weights[dtw_version], downsample=1, outfile=outfile, subseq=subseq)\n",
    "        wp = wp[::-1,:]\n",
    "    else:\n",
    "        wp = alignDTW(F1, F2, steps=steps[dtw_version], weights=weights[dtw_version], downsample=1, outfile=outfile, subseq=subseq)\n",
    "    \n",
    "    if wp is not None:\n",
    "        pickle.dump(wp, open(outfile, 'wb'))"
   ]
  },
  {
   "cell_type": "code",
   "execution_count": null,
   "id": "d1e1aade",
   "metadata": {},
   "outputs": [],
   "source": [
    "def run_all_benchmarks(outdir):\n",
    "    parts_batch = []\n",
    "    queryids = []\n",
    "    with open(QUERY_LIST, 'r') as f:\n",
    "        for line in tqdm(f):\n",
    "            parts = line.strip().split(' ')\n",
    "            assert len(parts) == 2\n",
    "            queryid = os.path.basename(parts[0]) + '__' + os.path.basename(parts[1])\n",
    "            \n",
    "            parts_batch.append(parts)\n",
    "            queryids.append(queryid)\n",
    "            \n",
    "    for benchmark in BENCHMARKS:\n",
    "#         run_benchmark(benchmark, FEAT_DIRS[benchmark][0], FEAT_DIRS[benchmark][1], parts_batch[0], outdir, queryids[0])\n",
    "        run_benchmark_batch(benchmark, FEAT_DIRS[benchmark][0], FEAT_DIRS[benchmark][1], parts_batch, outdir, queryids, n_cores=4)\n",
    "    \n",
    "            \n",
    "#             for benchmark in BENCHMARKS:\n",
    "#                 run_benchmark(benchmark, FEAT_DIRS[benchmark][0], FEAT_DIRS[benchmark][1], parts, outdir, queryid)"
   ]
  },
  {
   "cell_type": "code",
   "execution_count": null,
   "id": "e7f33ba6",
   "metadata": {},
   "outputs": [],
   "source": [
    "def run_benchmark_batch(benchmark, featdir1, featdir2, parts_batch, outdir, queryids, n_cores):\n",
    "    inputs = []\n",
    "    assert len(parts_batch) == len(queryids)\n",
    "    \n",
    "    for i in range(len(parts_batch)):\n",
    "        featfile1 = (featdir1 / parts_batch[i][0]).with_suffix('.npy')\n",
    "        featfile2 = (featdir2 / parts_batch[i][1]).with_suffix('.npy')\n",
    "        \n",
    "        F1 = np.load(featfile1)\n",
    "        F2 = np.load(featfile2)\n",
    "\n",
    "        F1[F1 == 0] = 1e-9\n",
    "        F2[F2 == 0] = 1e-9\n",
    "        \n",
    "        for system in SYSTEMS:\n",
    "            inputs.append((system, F1, F2, get_outfile(outdir, benchmark, system, queryids[i])))\n",
    "\n",
    "    # process files in parallel\n",
    "    pool = multiprocessing.Pool(processes = multiprocessing.cpu_count()-1)\n",
    "    pool.starmap(dtw, inputs)\n",
    "    \n",
    "    \n",
    "    return"
   ]
  },
  {
   "cell_type": "code",
   "execution_count": null,
   "id": "d3627a0d",
   "metadata": {},
   "outputs": [],
   "source": [
    "def run_benchmark(benchmark, featdir1, featdir2, parts, outdir, queryid):\n",
    "    featfile1 = (featdir1 / parts[0]).with_suffix('.npy')\n",
    "    featfile2 = (featdir2 / parts[1]).with_suffix('.npy')\n",
    "\n",
    "    F1 = np.load(featfile1)\n",
    "    F2 = np.load(featfile2)\n",
    "    \n",
    "    F1[F1 == 0] = 1e-9\n",
    "    F2[F2 == 0] = 1e-9\n",
    "        \n",
    "    # run all 3 baselines\n",
    "    for system in SYSTEMS:\n",
    "        dtw(system, F1, F2, get_outfile(outdir, benchmark, system, queryid))"
   ]
  },
  {
   "cell_type": "code",
   "execution_count": null,
   "id": "35d8ee2f",
   "metadata": {},
   "outputs": [],
   "source": [
    "outdir = Path(f'experiments_train/{TRAIN_SET}')\n",
    "run_all_benchmarks(outdir)"
   ]
  }
 ],
 "metadata": {
  "kernelspec": {
   "display_name": "Python 3",
   "language": "python",
   "name": "python3"
  },
  "language_info": {
   "codemirror_mode": {
    "name": "ipython",
    "version": 3
   },
   "file_extension": ".py",
   "mimetype": "text/x-python",
   "name": "python",
   "nbconvert_exporter": "python",
   "pygments_lexer": "ipython3",
   "version": "3.7.16"
  }
 },
 "nbformat": 4,
 "nbformat_minor": 5
}
