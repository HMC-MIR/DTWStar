{
 "cells": [
  {
   "cell_type": "code",
   "execution_count": 18,
   "id": "4b662348",
   "metadata": {},
   "outputs": [],
   "source": [
    "import numpy as np\n",
    "import matplotlib.pyplot as plt\n",
    "import os.path\n",
    "from pathlib import Path\n",
    "import pickle\n",
    "import multiprocessing\n",
    "import time\n",
    "import gc\n",
    "from tqdm import tqdm"
   ]
  },
  {
   "cell_type": "code",
   "execution_count": 19,
   "id": "cc67af94",
   "metadata": {},
   "outputs": [],
   "source": [
    "import import_ipynb"
   ]
  },
  {
   "cell_type": "code",
   "execution_count": 20,
   "id": "dc8957b7",
   "metadata": {},
   "outputs": [],
   "source": [
    "import DTW"
   ]
  },
  {
   "cell_type": "code",
   "execution_count": 21,
   "id": "381d3078",
   "metadata": {},
   "outputs": [],
   "source": [
    "import NWTW"
   ]
  },
  {
   "cell_type": "code",
   "execution_count": 22,
   "id": "fd55f441",
   "metadata": {},
   "outputs": [],
   "source": [
    "import FlexDTW"
   ]
  },
  {
   "cell_type": "code",
   "execution_count": 23,
   "id": "47247763",
   "metadata": {},
   "outputs": [],
   "source": [
    "DATASET = 'train' # 'test'\n",
    "VERSION = 'toy'"
   ]
  },
  {
   "cell_type": "code",
   "execution_count": 24,
   "id": "b374faf3",
   "metadata": {},
   "outputs": [],
   "source": [
    "QUERY_LIST = Path(f'cfg_files/queries.{DATASET}.{VERSION}')"
   ]
  },
  {
   "cell_type": "code",
   "execution_count": 25,
   "id": "ab4b7065",
   "metadata": {},
   "outputs": [],
   "source": [
    "SYSTEMS = ['dtw1', 'dtw2', 'dtw3', 'subseqdtw1', 'subseqdtw2', 'subseqdtw3', 'nwtw', 'flexdtw']\n",
    "BENCHMARKS = ['matching', 'subseq_20', 'subseq_30', 'subseq_40', 'partialStart', 'partialEnd', 'partialOverlap', \n",
    "              'pre_5', 'pre_10', 'pre_20', 'post_5', 'post_10', 'post_20', 'prepost_5', 'prepost_10',\n",
    "              'prepost_20']"
   ]
  },
  {
   "cell_type": "code",
   "execution_count": 26,
   "id": "567420c2",
   "metadata": {},
   "outputs": [],
   "source": [
    "features_root = Path('../ttmp/Chopin_Mazurkas_features')\n",
    "FEAT_DIRS = {}\n",
    "\n",
    "for benchmark in BENCHMARKS:\n",
    "    if benchmark == 'partialOverlap':\n",
    "        FEAT_DIRS[benchmark] = ([features_root/'partialStart', features_root/'partialEnd'])\n",
    "    elif 'prepost' in benchmark:\n",
    "        sec = benchmark.split('_')[-1]\n",
    "        FEAT_DIRS[benchmark] = ([features_root/f'pre_{sec}', features_root/f'post_{sec}'])\n",
    "    else:\n",
    "        FEAT_DIRS[benchmark] = [features_root/f'{benchmark}', features_root/'original']"
   ]
  },
  {
   "cell_type": "code",
   "execution_count": 27,
   "id": "c556bb0f",
   "metadata": {},
   "outputs": [],
   "source": [
    "steps = {'dtw1': np.array([1,1,1,2,2,1]).reshape((-1,2)),\n",
    "        'dtw2': np.array([1,1,1,2,2,1]).reshape((-1,2)),\n",
    "        'dtw3': np.array([1,1,1,2,2,1]).reshape((-1,2)),\n",
    "        'subseqdtw1': np.array([1,1,1,2,2,1]).reshape((-1,2)),\n",
    "        'subseqdtw2': np.array([1,1,1,2,2,1]).reshape((-1,2)),\n",
    "        'subseqdtw3': np.array([1,1,1,2,2,1]).reshape((-1,2)),\n",
    "        'nwtw': 0, # transitions are specified in NWTW algorithm\n",
    "        'flexdtw': np.array([1,1,1,2,2,1]).reshape((-1,2))\n",
    "        }\n",
    "weights = {'dtw1': np.array([2,3,3]),\n",
    "          'dtw2': np.array([1,1,1]),\n",
    "          'dtw3': np.array([1,2,2]),\n",
    "          'subseqdtw1': np.array([1,1,2]),\n",
    "          'subseqdtw2': np.array([2,3,3]),\n",
    "          'subseqdtw3': np.array([1,2,2]),\n",
    "          'nwtw': 0, # weights are specified in NWTW algorithm\n",
    "          'flexdtw': np.array([1.25,3,3])\n",
    "          }\n",
    "other_params = {\n",
    "                'flexdtw': {'beta': 0.1}\n",
    "               }"
   ]
  },
  {
   "cell_type": "markdown",
   "id": "01626c9f",
   "metadata": {},
   "source": [
    "# Benchmarks"
   ]
  },
  {
   "cell_type": "code",
   "execution_count": 28,
   "id": "6b2ab6ec",
   "metadata": {},
   "outputs": [],
   "source": [
    "def get_outfile(outdir, benchmark, system, queryid):\n",
    "    outpath = (outdir / benchmark / system)\n",
    "    outpath.mkdir(parents=True, exist_ok=True)\n",
    "    outfile = (outpath / queryid).with_suffix('.pkl')\n",
    "    return outfile"
   ]
  },
  {
   "cell_type": "code",
   "execution_count": 29,
   "id": "400d74ab",
   "metadata": {},
   "outputs": [],
   "source": [
    "def align_system(system, F1, F2, outfile):\n",
    "    \n",
    "    subseq = 'subseq' in system\n",
    "    \n",
    "    if system == 'flexdtw':\n",
    "        L1 = F1.shape[1]\n",
    "        L2 = F2.shape[1]\n",
    "        buffer = min(L1, L2) * (1 - (1 - other_params[system]['beta']) * min(L1,L2) / max(L1, L2))\n",
    "        C = 1 - FlexDTW.L2norm(F1).T @ FlexDTW.L2norm(F2) # cos distance metric\n",
    "        best_cost, wp, debug = FlexDTW.flexdtw(C, steps=steps[system], weights=weights[system], buffer=buffer)\n",
    "    elif system == 'nwtw':\n",
    "        downsample = 1\n",
    "        C = 1 - NWTW.L2norm(F1)[:,0::downsample].T @ NWTW.L2norm(F2)[:,0::downsample] # cos distance metric\n",
    "        optcost, wp, D, B = NWTW.NWTW_faster(C, gamma=0.346)\n",
    "    else:\n",
    "        downsample = 1\n",
    "        if subseq and (F2.shape[1] < F1.shape[1]):\n",
    "            C = 1 - DTW.L2norm(F2)[:,0::downsample].T @ DTW.L2norm(F1)[:,0::downsample] # cos distance metric\n",
    "            wp = DTW.alignDTW(C, steps=steps[system], weights=weights[system], downsample=downsample, outfile=outfile, subseq=subseq)\n",
    "            wp = wp[::-1,:]\n",
    "        else:\n",
    "            C = 1 - DTW.L2norm(F1)[:,0::downsample].T @ DTW.L2norm(F2)[:,0::downsample] # cos distance metric\n",
    "            wp = DTW.alignDTW(C, steps=steps[system], weights=weights[system], downsample=downsample, outfile=outfile, subseq=subseq)\n",
    "            \n",
    "    if wp is not None:\n",
    "        pickle.dump(wp, open(outfile, 'wb'))"
   ]
  },
  {
   "cell_type": "code",
   "execution_count": 30,
   "id": "d1e1aade",
   "metadata": {},
   "outputs": [],
   "source": [
    "def run_all_benchmarks(outdir):\n",
    "    parts_batch = []\n",
    "    queryids = []\n",
    "    with open(QUERY_LIST, 'r') as f:\n",
    "        for line in tqdm(f):\n",
    "            parts = line.strip().split(' ')\n",
    "            assert len(parts) == 2\n",
    "            queryid = os.path.basename(parts[0]) + '__' + os.path.basename(parts[1])\n",
    "            \n",
    "            if 'Czerny-Stefanska-1949_pid9086' in queryid:\n",
    "                continue\n",
    "            \n",
    "            parts_batch.append(parts)\n",
    "            queryids.append(queryid)\n",
    "            \n",
    "    for benchmark in BENCHMARKS:\n",
    "#         for i in range(len(parts_batch)):\n",
    "#             run_benchmark(benchmark, FEAT_DIRS[benchmark][0], FEAT_DIRS[benchmark][1], parts_batch[i], outdir, queryids[i])\n",
    "        run_benchmark_batch(benchmark, FEAT_DIRS[benchmark][0], FEAT_DIRS[benchmark][1], parts_batch, outdir, queryids, n_cores=4)"
   ]
  },
  {
   "cell_type": "code",
   "execution_count": 31,
   "id": "e7f33ba6",
   "metadata": {},
   "outputs": [],
   "source": [
    "def run_benchmark_batch(benchmark, featdir1, featdir2, parts_batch, outdir, queryids, n_cores):\n",
    "    inputs = []\n",
    "    assert len(parts_batch) == len(queryids)\n",
    "    \n",
    "    for i in range(len(parts_batch)):\n",
    "        featfile1 = (featdir1 / parts_batch[i][0]).with_suffix('.npy')\n",
    "        featfile2 = (featdir2 / parts_batch[i][1]).with_suffix('.npy')\n",
    "        \n",
    "        F1 = np.load(featfile1)\n",
    "        F2 = np.load(featfile2)\n",
    "        \n",
    "        for system in SYSTEMS:\n",
    "            \n",
    "            # only compute alignment if this hypothesis file doesn't already exist\n",
    "            outfile = get_outfile(outdir, benchmark, system, queryids[i])\n",
    "            if not os.path.isfile(outfile):   \n",
    "                inputs.append((system, F1, F2, outfile))\n",
    "\n",
    "    # process files in parallel\n",
    "    pool = multiprocessing.Pool(processes = multiprocessing.cpu_count()-1)\n",
    "    pool.starmap(align_system, inputs)\n",
    "    \n",
    "    \n",
    "    return"
   ]
  },
  {
   "cell_type": "code",
   "execution_count": 32,
   "id": "d3627a0d",
   "metadata": {},
   "outputs": [],
   "source": [
    "def run_benchmark(benchmark, featdir1, featdir2, parts, outdir, queryid):\n",
    "    featfile1 = (featdir1 / parts[0]).with_suffix('.npy')\n",
    "    featfile2 = (featdir2 / parts[1]).with_suffix('.npy')\n",
    "\n",
    "    F1 = np.load(featfile1)\n",
    "    F2 = np.load(featfile2)\n",
    "        \n",
    "    # run all baselines\n",
    "    for system in SYSTEMS:\n",
    "        \n",
    "        # only compute alignment if this hypothesis file doesn't already exist\n",
    "        outfile = get_outfile(outdir, benchmark, system, queryids[i])\n",
    "        if not os.path.isfile(outfile):   \n",
    "            align_system(system, F1, F2, outfile)"
   ]
  },
  {
   "cell_type": "code",
   "execution_count": 33,
   "id": "35d8ee2f",
   "metadata": {
    "scrolled": true
   },
   "outputs": [
    {
     "name": "stderr",
     "output_type": "stream",
     "text": [
      "5it [00:00, 8800.47it/s]\n"
     ]
    }
   ],
   "source": [
    "outdir = Path(f'experiments_{DATASET}/{VERSION}')\n",
    "run_all_benchmarks(outdir)"
   ]
  },
  {
   "cell_type": "code",
   "execution_count": null,
   "id": "dc64734d",
   "metadata": {},
   "outputs": [],
   "source": []
  }
 ],
 "metadata": {
  "kernelspec": {
   "display_name": "Python 3 (ipykernel)",
   "language": "python",
   "name": "python3"
  },
  "language_info": {
   "codemirror_mode": {
    "name": "ipython",
    "version": 3
   },
   "file_extension": ".py",
   "mimetype": "text/x-python",
   "name": "python",
   "nbconvert_exporter": "python",
   "pygments_lexer": "ipython3",
   "version": "3.7.13"
  }
 },
 "nbformat": 4,
 "nbformat_minor": 5
}
