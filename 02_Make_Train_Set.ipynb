{
 "cells": [
  {
   "cell_type": "code",
   "execution_count": 1,
   "id": "6a972cf8",
   "metadata": {},
   "outputs": [],
   "source": [
    "import os\n",
    "import glob\n",
    "from pathlib import Path\n",
    "import random"
   ]
  },
  {
   "cell_type": "markdown",
   "id": "c5a72f0f",
   "metadata": {},
   "source": [
    "### Make Train Files List"
   ]
  },
  {
   "cell_type": "code",
   "execution_count": 10,
   "id": "3dd5d0a8",
   "metadata": {},
   "outputs": [],
   "source": [
    "DATA_PATH = Path('../ttmp/Chopin_Mazurkas_Modified/annotations_beat/Chopin_Op017No4')\n",
    "train_files_path = Path('cfg_files/train.files.list')\n",
    "Path(\"cfg_files\").mkdir(parents=True, exist_ok=True)"
   ]
  },
  {
   "cell_type": "code",
   "execution_count": 11,
   "id": "d07dfa6f",
   "metadata": {},
   "outputs": [],
   "source": [
    "with open(train_files_path, 'w') as f:\n",
    "    for filepath in DATA_PATH.glob('*'):\n",
    "        filename = os.path.basename(filepath)[:-5]\n",
    "        f.write('Chopin_Op017No4/' + filename + '\\n')"
   ]
  },
  {
   "cell_type": "markdown",
   "id": "5d9db161",
   "metadata": {},
   "source": [
    "### Make Train Query Lists"
   ]
  },
  {
   "cell_type": "markdown",
   "id": "0c75651c",
   "metadata": {},
   "source": [
    "**Train-Full**"
   ]
  },
  {
   "cell_type": "code",
   "execution_count": 12,
   "id": "6351c118",
   "metadata": {},
   "outputs": [],
   "source": [
    "full_queries_path = Path('cfg_files/queries.train.full')"
   ]
  },
  {
   "cell_type": "code",
   "execution_count": 13,
   "id": "50d442fa",
   "metadata": {},
   "outputs": [],
   "source": [
    "with open(train_files_path, 'r') as f:\n",
    "    train_files_list = [line[:-1] for line in f]\n",
    "\n",
    "with open(full_queries_path, 'w') as f:\n",
    "    for i in range(len(train_files_list)):\n",
    "        for j in range(i+1, len(train_files_list)):\n",
    "            f.write(train_files_list[i] + \" \" + train_files_list[j] + '\\n')"
   ]
  },
  {
   "cell_type": "markdown",
   "id": "64d8f771",
   "metadata": {},
   "source": [
    "**Train-Small**"
   ]
  },
  {
   "cell_type": "code",
   "execution_count": 14,
   "id": "ed5b9d84",
   "metadata": {},
   "outputs": [],
   "source": [
    "random.seed(42)"
   ]
  },
  {
   "cell_type": "code",
   "execution_count": 15,
   "id": "56718084",
   "metadata": {},
   "outputs": [],
   "source": [
    "small_queries_path = Path('cfg_files/queries.train.small')"
   ]
  },
  {
   "cell_type": "code",
   "execution_count": 16,
   "id": "b93d1cd8",
   "metadata": {},
   "outputs": [],
   "source": [
    "with open(full_queries_path, 'r') as f:\n",
    "    full_queries_list = [line[:-1] for line in f]\n",
    "small_queries_list = random.sample(full_queries_list, k=200)"
   ]
  },
  {
   "cell_type": "code",
   "execution_count": 17,
   "id": "a5bcaf36",
   "metadata": {},
   "outputs": [],
   "source": [
    "with open(small_queries_path, 'w') as f:\n",
    "    for file in small_queries_list:\n",
    "        f.write(file + '\\n')"
   ]
  },
  {
   "cell_type": "markdown",
   "id": "8f00ee63",
   "metadata": {},
   "source": [
    "**Train-Toy**"
   ]
  },
  {
   "cell_type": "code",
   "execution_count": 18,
   "id": "25c9d267",
   "metadata": {},
   "outputs": [],
   "source": [
    "toy_queries_path = Path('cfg_files/queries.train.toy')"
   ]
  },
  {
   "cell_type": "code",
   "execution_count": 19,
   "id": "48b7833b",
   "metadata": {},
   "outputs": [],
   "source": [
    "with open(full_queries_path, 'r') as f:\n",
    "    full_queries_list = [line[:-1] for line in f]\n",
    "toy_queries_list = random.sample(full_queries_list, k=5)"
   ]
  },
  {
   "cell_type": "code",
   "execution_count": 20,
   "id": "cbe387f3",
   "metadata": {},
   "outputs": [],
   "source": [
    "with open(toy_queries_path, 'w') as f:\n",
    "    for file in toy_queries_list:\n",
    "        f.write(file + '\\n')"
   ]
  }
 ],
 "metadata": {
  "kernelspec": {
   "display_name": "Python 3",
   "language": "python",
   "name": "python3"
  },
  "language_info": {
   "codemirror_mode": {
    "name": "ipython",
    "version": 3
   },
   "file_extension": ".py",
   "mimetype": "text/x-python",
   "name": "python",
   "nbconvert_exporter": "python",
   "pygments_lexer": "ipython3",
   "version": "3.7.16"
  }
 },
 "nbformat": 4,
 "nbformat_minor": 5
}
