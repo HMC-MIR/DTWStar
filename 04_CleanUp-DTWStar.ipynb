{
 "cells": [
  {
   "cell_type": "markdown",
   "metadata": {},
   "source": [
    "# Undo operations in previous three notebooks"
   ]
  },
  {
   "cell_type": "markdown",
   "metadata": {},
   "source": [
    "The goal of this notebook is to clean up the operations done in previous notebooks to allow running things from a fresh start.\n",
    "\n",
    "***WARNING***: These files store the results of potentially long computations. Make sure you are ok repeating that work."
   ]
  },
  {
   "cell_type": "markdown",
   "metadata": {},
   "source": [
    "## Undo Data Prep (notebook 1)"
   ]
  },
  {
   "cell_type": "code",
   "execution_count": null,
   "metadata": {},
   "outputs": [],
   "source": [
    "import os\n",
    "from pathlib import Path\n",
    "from shutil import rmtree"
   ]
  },
  {
   "cell_type": "code",
   "execution_count": null,
   "metadata": {},
   "outputs": [],
   "source": [
    "%store -r DATA_ROOT\n",
    "%store -r FEATURES_ROOT\n",
    "%store -r TRAIN_DATASET"
   ]
  },
  {
   "cell_type": "markdown",
   "metadata": {},
   "source": [
    "### Remove query list"
   ]
  },
  {
   "cell_type": "code",
   "execution_count": null,
   "metadata": {},
   "outputs": [],
   "source": [
    "train_queries = 'cfg_files/query.' + TRAIN_DATASET + '.list'\n",
    "test_queries = 'cfg_files/query.test.list'\n",
    "\n",
    "if os.path.exists(train_queries):\n",
    "    os.remove(train_queries)\n",
    "if os.path.exists(test_queries):\n",
    "    os.remove(test_queries)"
   ]
  },
  {
   "cell_type": "markdown",
   "metadata": {},
   "source": [
    "## Undo computing alignments (notebook 2)"
   ]
  },
  {
   "cell_type": "markdown",
   "metadata": {},
   "source": [
    "## Remove results of profiling"
   ]
  },
  {
   "cell_type": "code",
   "execution_count": null,
   "metadata": {},
   "outputs": [],
   "source": [
    "profiling_outfile = 'dtw_prof.pkl'\n",
    "\n",
    "if os.path.exists(profiling_outfile):\n",
    "    os.remove(profiling_outfile)"
   ]
  },
  {
   "cell_type": "markdown",
   "metadata": {},
   "source": [
    "### Remove saved chroma features"
   ]
  },
  {
   "cell_type": "code",
   "execution_count": null,
   "metadata": {},
   "outputs": [],
   "source": [
    "if os.path.exists(FEATURES_ROOT):\n",
    "    rmtree(FEATURES_ROOT)"
   ]
  },
  {
   "cell_type": "markdown",
   "metadata": {},
   "source": [
    "### Remove saved DTW alignments"
   ]
  },
  {
   "cell_type": "code",
   "execution_count": null,
   "metadata": {},
   "outputs": [],
   "source": [
    "alignment_dir = 'experiments_test'\n",
    "\n",
    "if os.path.exists(alignment_dir):\n",
    "    rmtree(alignment_dir)"
   ]
  },
  {
   "cell_type": "markdown",
   "metadata": {},
   "source": [
    "## Undo Evaluation (notebook 3)"
   ]
  },
  {
   "cell_type": "code",
   "execution_count": null,
   "metadata": {},
   "outputs": [],
   "source": [
    "evaluation_dir = 'evaluations_test'\n",
    "grouped_histogram_savefile = 'results.png'\n",
    "\n",
    "if os.path.exists(evaluation_dir):\n",
    "    rmtree(evaluation_dir)\n",
    "if os.path.exists(grouped_histogram_savefile):\n",
    "    os.remove(grouped_histogram_savefile)"
   ]
  }
 ],
 "metadata": {
  "kernelspec": {
   "display_name": "Python 3",
   "language": "python",
   "name": "python3"
  },
  "language_info": {
   "codemirror_mode": {
    "name": "ipython",
    "version": 3
   },
   "file_extension": ".py",
   "mimetype": "text/x-python",
   "name": "python",
   "nbconvert_exporter": "python",
   "pygments_lexer": "ipython3",
   "version": "3.7.7"
  }
 },
 "nbformat": 4,
 "nbformat_minor": 4
}
